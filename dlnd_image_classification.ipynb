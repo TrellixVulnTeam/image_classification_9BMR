{
 "cells": [
  {
   "cell_type": "markdown",
   "metadata": {
    "collapsed": true
   },
   "source": [
    "# Image Classification\n",
    "In this project, you'll classify images from the [CIFAR-10 dataset](https://www.cs.toronto.edu/~kriz/cifar.html).  The dataset consists of airplanes, dogs, cats, and other objects. You'll preprocess the images, then train a convolutional neural network on all the samples. The images need to be normalized and the labels need to be one-hot encoded.  You'll get to apply what you learned and build a convolutional, max pooling, dropout, and fully connected layers.  At the end, you'll get to see your neural network's predictions on the sample images.\n",
    "## Get the Data\n",
    "Run the following cell to download the [CIFAR-10 dataset for python](https://www.cs.toronto.edu/~kriz/cifar-10-python.tar.gz)."
   ]
  },
  {
   "cell_type": "code",
   "execution_count": 1,
   "metadata": {},
   "outputs": [
    {
     "name": "stdout",
     "output_type": "stream",
     "text": [
      "All files found!\n"
     ]
    }
   ],
   "source": [
    "\"\"\"\n",
    "DON'T MODIFY ANYTHING IN THIS CELL THAT IS BELOW THIS LINE\n",
    "\"\"\"\n",
    "from urllib.request import urlretrieve\n",
    "from os.path import isfile, isdir\n",
    "from tqdm import tqdm\n",
    "import problem_unittests as tests\n",
    "import tarfile\n",
    "\n",
    "cifar10_dataset_folder_path = 'cifar-10-batches-py'\n",
    "\n",
    "# Use Floyd's cifar-10 dataset if present\n",
    "floyd_cifar10_location = '/input/cifar-10/python.tar.gz'\n",
    "if isfile(floyd_cifar10_location):\n",
    "    tar_gz_path = floyd_cifar10_location\n",
    "else:\n",
    "    tar_gz_path = 'cifar-10-python.tar.gz'\n",
    "\n",
    "class DLProgress(tqdm):\n",
    "    last_block = 0\n",
    "\n",
    "    def hook(self, block_num=1, block_size=1, total_size=None):\n",
    "        self.total = total_size\n",
    "        self.update((block_num - self.last_block) * block_size)\n",
    "        self.last_block = block_num\n",
    "\n",
    "if not isfile(tar_gz_path):\n",
    "    with DLProgress(unit='B', unit_scale=True, miniters=1, desc='CIFAR-10 Dataset') as pbar:\n",
    "        urlretrieve(\n",
    "            'https://www.cs.toronto.edu/~kriz/cifar-10-python.tar.gz',\n",
    "            tar_gz_path,\n",
    "            pbar.hook)\n",
    "\n",
    "if not isdir(cifar10_dataset_folder_path):\n",
    "    with tarfile.open(tar_gz_path) as tar:\n",
    "        tar.extractall()\n",
    "        tar.close()\n",
    "\n",
    "\n",
    "tests.test_folder_path(cifar10_dataset_folder_path)"
   ]
  },
  {
   "cell_type": "markdown",
   "metadata": {},
   "source": [
    "## Explore the Data\n",
    "The dataset is broken into batches to prevent your machine from running out of memory.  The CIFAR-10 dataset consists of 5 batches, named `data_batch_1`, `data_batch_2`, etc.. Each batch contains the labels and images that are one of the following:\n",
    "* airplane\n",
    "* automobile\n",
    "* bird\n",
    "* cat\n",
    "* deer\n",
    "* dog\n",
    "* frog\n",
    "* horse\n",
    "* ship\n",
    "* truck\n",
    "\n",
    "Understanding a dataset is part of making predictions on the data.  Play around with the code cell below by changing the `batch_id` and `sample_id`. The `batch_id` is the id for a batch (1-5). The `sample_id` is the id for a image and label pair in the batch.\n",
    "\n",
    "Ask yourself \"What are all possible labels?\", \"What is the range of values for the image data?\", \"Are the labels in order or random?\".  Answers to questions like these will help you preprocess the data and end up with better predictions."
   ]
  },
  {
   "cell_type": "code",
   "execution_count": 2,
   "metadata": {},
   "outputs": [
    {
     "name": "stdout",
     "output_type": "stream",
     "text": [
      "\n",
      "Stats of batch 1:\n",
      "Samples: 10000\n",
      "Label Counts: {0: 1005, 1: 974, 2: 1032, 3: 1016, 4: 999, 5: 937, 6: 1030, 7: 1001, 8: 1025, 9: 981}\n",
      "First 20 Labels: [6, 9, 9, 4, 1, 1, 2, 7, 8, 3, 4, 7, 7, 2, 9, 9, 9, 3, 2, 6]\n",
      "\n",
      "Example of Image 5:\n",
      "Image - Min Value: 0 Max Value: 252\n",
      "Image - Shape: (32, 32, 3)\n",
      "Label - Label Id: 1 Name: automobile\n"
     ]
    },
    {
     "data": {
      "image/png": "[encoded data removed]",
      "text/plain": [
       "<matplotlib.figure.Figure at 0x7f292b01e8d0>"
      ]
     },
     "metadata": {
      "image/png": {
       "height": 250,
       "width": 253
      }
     },
     "output_type": "display_data"
    }
   ],
   "source": [
    "%matplotlib inline\n",
    "%config InlineBackend.figure_format = 'retina'\n",
    "\n",
    "import helper\n",
    "import numpy as np\n",
    "\n",
    "# Explore the dataset\n",
    "batch_id = 1\n",
    "sample_id = 5\n",
    "helper.display_stats(cifar10_dataset_folder_path, batch_id, sample_id)"
   ]
  },
  {
   "cell_type": "markdown",
   "metadata": {},
   "source": [
    "## Implement Preprocess Functions\n",
    "### Normalize\n",
    "In the cell below, implement the `normalize` function to take in image data, `x`, and return it as a normalized Numpy array. The values should be in the range of 0 to 1, inclusive.  The return object should be the same shape as `x`."
   ]
  },
  {
   "cell_type": "code",
   "execution_count": 3,
   "metadata": {},
   "outputs": [
    {
     "name": "stdout",
     "output_type": "stream",
     "text": [
      "Tests Passed\n"
     ]
    }
   ],
   "source": [
    "def normalize(x):\n",
    "    \"\"\"\n",
    "    Normalize a list of sample image data in the range of 0 to 1\n",
    "    : x: List of image data.  The image shape is (32, 32, 3)\n",
    "    : return: Numpy array of normalize data\n",
    "    \"\"\"\n",
    "    a = 0.1\n",
    "    b = 0.9\n",
    "    layer_min = 0\n",
    "    layer_max = 255\n",
    "    return a + (((x - layer_min)*(b - a) )/( layer_max - layer_min ) )\n",
    "    \n",
    "\n",
    "\"\"\"\n",
    "DON'T MODIFY ANYTHING IN THIS CELL THAT IS BELOW THIS LINE\n",
    "\"\"\"\n",
    "tests.test_normalize(normalize)"
   ]
  },
  {
   "cell_type": "markdown",
   "metadata": {},
   "source": [
    "### One-hot encode\n",
    "Just like the previous code cell, you'll be implementing a function for preprocessing.  This time, you'll implement the `one_hot_encode` function. The input, `x`, are a list of labels.  Implement the function to return the list of labels as One-Hot encoded Numpy array.  The possible values for labels are 0 to 9. The one-hot encoding function should return the same encoding for each value between each call to `one_hot_encode`.  Make sure to save the map of encodings outside the function.\n",
    "\n",
    "Hint: Don't reinvent the wheel."
   ]
  },
  {
   "cell_type": "code",
   "execution_count": 4,
   "metadata": {},
   "outputs": [
    {
     "name": "stdout",
     "output_type": "stream",
     "text": [
      "Tests Passed\n"
     ]
    }
   ],
   "source": [
    "from sklearn.preprocessing import LabelBinarizer\n",
    "\n",
    "encoder = LabelBinarizer()\n",
    "encoder.fit(range(10))\n",
    "def one_hot_encode(x):\n",
    "    \"\"\"\n",
    "    One hot encode a list of sample labels. Return a one-hot encoded vector for each label.\n",
    "    : x: List of sample Labels\n",
    "    : return: Numpy array of one-hot encoded labels\n",
    "    \"\"\"\n",
    "    return encoder.transform(x).astype(np.float32)\n",
    "\n",
    "\"\"\"\n",
    "DON'T MODIFY ANYTHING IN THIS CELL THAT IS BELOW THIS LINE\n",
    "\"\"\"\n",
    "tests.test_one_hot_encode(one_hot_encode)"
   ]
  },
  {
   "cell_type": "markdown",
   "metadata": {},
   "source": [
    "### Randomize Data\n",
    "As you saw from exploring the data above, the order of the samples are randomized.  It doesn't hurt to randomize it again, but you don't need to for this dataset."
   ]
  },
  {
   "cell_type": "markdown",
   "metadata": {},
   "source": [
    "## Preprocess all the data and save it\n",
    "Running the code cell below will preprocess all the CIFAR-10 data and save it to file. The code below also uses 10% of the training data for validation."
   ]
  },
  {
   "cell_type": "code",
   "execution_count": 5,
   "metadata": {
    "collapsed": true
   },
   "outputs": [],
   "source": [
    "\"\"\"\n",
    "DON'T MODIFY ANYTHING IN THIS CELL\n",
    "\"\"\"\n",
    "# Preprocess Training, Validation, and Testing Data\n",
    "helper.preprocess_and_save_data(cifar10_dataset_folder_path, normalize, one_hot_encode)"
   ]
  },
  {
   "cell_type": "markdown",
   "metadata": {},
   "source": [
    "# Check Point\n",
    "This is your first checkpoint.  If you ever decide to come back to this notebook or have to restart the notebook, you can start from here.  The preprocessed data has been saved to disk."
   ]
  },
  {
   "cell_type": "code",
   "execution_count": 6,
   "metadata": {},
   "outputs": [],
   "source": [
    "\"\"\"\n",
    "DON'T MODIFY ANYTHING IN THIS CELL\n",
    "\"\"\"\n",
    "import pickle\n",
    "import problem_unittests as tests\n",
    "import helper\n",
    "\n",
    "# Load the Preprocessed Validation data\n",
    "valid_features, valid_labels = pickle.load(open('preprocess_validation.p', mode='rb'))"
   ]
  },
  {
   "cell_type": "markdown",
   "metadata": {},
   "source": [
    "## Build the network\n",
    "For the neural network, you'll build each layer into a function.  Most of the code you've seen has been outside of functions. To test your code more thoroughly, we require that you put each layer in a function.  This allows us to give you better feedback and test for simple mistakes using our unittests before you submit your project.\n",
    "\n",
    ">**Note:** If you're finding it hard to dedicate enough time for this course each week, we've provided a small shortcut to this part of the project. In the next couple of problems, you'll have the option to use classes from the [TensorFlow Layers](https://www.tensorflow.org/api_docs/python/tf/layers) or [TensorFlow Layers (contrib)](https://www.tensorflow.org/api_guides/python/contrib.layers) packages to build each layer, except the layers you build in the \"Convolutional and Max Pooling Layer\" section.  TF Layers is similar to Keras's and TFLearn's abstraction to layers, so it's easy to pickup.\n",
    "\n",
    ">However, if you would like to get the most out of this course, try to solve all the problems _without_ using anything from the TF Layers packages. You **can** still use classes from other packages that happen to have the same name as ones you find in TF Layers! For example, instead of using the TF Layers version of the `conv2d` class, [tf.layers.conv2d](https://www.tensorflow.org/api_docs/python/tf/layers/conv2d), you would want to use the TF Neural Network version of `conv2d`, [tf.nn.conv2d](https://www.tensorflow.org/api_docs/python/tf/nn/conv2d). \n",
    "\n",
    "Let's begin!\n",
    "\n",
    "### Input\n",
    "The neural network needs to read the image data, one-hot encoded labels, and dropout keep probability. Implement the following functions\n",
    "* Implement `neural_net_image_input`\n",
    " * Return a [TF Placeholder](https://www.tensorflow.org/api_docs/python/tf/placeholder)\n",
    " * Set the shape using `image_shape` with batch size set to `None`.\n",
    " * Name the TensorFlow placeholder \"x\" using the TensorFlow `name` parameter in the [TF Placeholder](https://www.tensorflow.org/api_docs/python/tf/placeholder).\n",
    "* Implement `neural_net_label_input`\n",
    " * Return a [TF Placeholder](https://www.tensorflow.org/api_docs/python/tf/placeholder)\n",
    " * Set the shape using `n_classes` with batch size set to `None`.\n",
    " * Name the TensorFlow placeholder \"y\" using the TensorFlow `name` parameter in the [TF Placeholder](https://www.tensorflow.org/api_docs/python/tf/placeholder).\n",
    "* Implement `neural_net_keep_prob_input`\n",
    " * Return a [TF Placeholder](https://www.tensorflow.org/api_docs/python/tf/placeholder) for dropout keep probability.\n",
    " * Name the TensorFlow placeholder \"keep_prob\" using the TensorFlow `name` parameter in the [TF Placeholder](https://www.tensorflow.org/api_docs/python/tf/placeholder).\n",
    "\n",
    "These names will be used at the end of the project to load your saved model.\n",
    "\n",
    "Note: `None` for shapes in TensorFlow allow for a dynamic size."
   ]
  },
  {
   "cell_type": "code",
   "execution_count": 7,
   "metadata": {},
   "outputs": [
    {
     "name": "stdout",
     "output_type": "stream",
     "text": [
      "Image Input Tests Passed.\n",
      "Label Input Tests Passed.\n",
      "Keep Prob Tests Passed.\n"
     ]
    }
   ],
   "source": [
    "import tensorflow as tf\n",
    "\n",
    "def neural_net_image_input(image_shape):\n",
    "    \"\"\"\n",
    "    Return a Tensor for a batch of image input\n",
    "    : image_shape: Shape of the images\n",
    "    : return: Tensor for image input.\n",
    "    \"\"\"\n",
    "    \n",
    "    return tf.placeholder(tf.float32, shape=(None, *image_shape), name='x')\n",
    "\n",
    "\n",
    "def neural_net_label_input(n_classes):\n",
    "    \"\"\"\n",
    "    Return a Tensor for a batch of label input\n",
    "    : n_classes: Number of classes\n",
    "    : return: Tensor for label input.\n",
    "    \"\"\"\n",
    "    return tf.placeholder(tf.float32, shape=(None, n_classes), name='y')\n",
    "\n",
    "\n",
    "def neural_net_keep_prob_input():\n",
    "    \"\"\"\n",
    "    Return a Tensor for keep probability\n",
    "    : return: Tensor for keep probability.\n",
    "    \"\"\"\n",
    "    return tf.placeholder(tf.float32, name='keep_prob')\n",
    "\n",
    "\n",
    "\"\"\"\n",
    "DON'T MODIFY ANYTHING IN THIS CELL THAT IS BELOW THIS LINE\n",
    "\"\"\"\n",
    "tf.reset_default_graph()\n",
    "tests.test_nn_image_inputs(neural_net_image_input)\n",
    "tests.test_nn_label_inputs(neural_net_label_input)\n",
    "tests.test_nn_keep_prob_inputs(neural_net_keep_prob_input)"
   ]
  },
  {
   "cell_type": "markdown",
   "metadata": {},
   "source": [
    "### Convolution and Max Pooling Layer\n",
    "Convolution layers have a lot of success with images. For this code cell, you should implement the function `conv2d_maxpool` to apply convolution then max pooling:\n",
    "* Create the weight and bias using `conv_ksize`, `conv_num_outputs` and the shape of `x_tensor`.\n",
    "* Apply a convolution to `x_tensor` using weight and `conv_strides`.\n",
    " * We recommend you use same padding, but you're welcome to use any padding.\n",
    "* Add bias\n",
    "* Add a nonlinear activation to the convolution.\n",
    "* Apply Max Pooling using `pool_ksize` and `pool_strides`.\n",
    " * We recommend you use same padding, but you're welcome to use any padding.\n",
    "\n",
    "**Note:** You **can't** use [TensorFlow Layers](https://www.tensorflow.org/api_docs/python/tf/layers) or [TensorFlow Layers (contrib)](https://www.tensorflow.org/api_guides/python/contrib.layers) for **this** layer, but you can still use TensorFlow's [Neural Network](https://www.tensorflow.org/api_docs/python/tf/nn) package. You may still use the shortcut option for all the **other** layers."
   ]
  },
  {
   "cell_type": "code",
   "execution_count": 8,
   "metadata": {},
   "outputs": [
    {
     "name": "stdout",
     "output_type": "stream",
     "text": [
      "Tests Passed\n"
     ]
    }
   ],
   "source": [
    "def one_pad(tup):\n",
    "    return (1, *tup, 1)\n",
    "    \n",
    "\n",
    "def conv2d_maxpool(x_tensor, conv_num_outputs, conv_ksize, conv_strides, pool_ksize, pool_strides):\n",
    "    \"\"\"\n",
    "    Apply convolution then max pooling to x_tensor\n",
    "    :param x_tensor: TensorFlow Tensor\n",
    "    :param conv_num_outputs: Number of outputs for the convolutional layer\n",
    "    :param conv_ksize: kernal size 2-D Tuple for the convolutional layer\n",
    "    :param conv_strides: Stride 2-D Tuple for convolution\n",
    "    :param pool_ksize: kernal size 2-D Tuple for pool\n",
    "    :param pool_strides: Stride 2-D Tuple for pool\n",
    "    : return: A tensor that represents convolution and max pooling of x_tensor\n",
    "    \"\"\"\n",
    "    \n",
    "    input_depth = x_tensor.shape[3].value\n",
    "   \n",
    "    weights_size = (conv_ksize[0], conv_ksize[1], input_depth, conv_num_outputs)\n",
    "    weights = tf.Variable(tf.truncated_normal(weights_size, mean=.0, stddev=.01))\n",
    "    bias = tf.Variable(tf.zeros(conv_num_outputs))\n",
    "    \n",
    "    conv = tf.nn.conv2d(x_tensor, weights, one_pad(conv_strides), padding='SAME')\n",
    "    conv = tf.nn.bias_add(conv, bias)\n",
    "    conv = tf.nn.relu(conv)\n",
    "\n",
    "    return tf.nn.max_pool(conv, one_pad(pool_ksize), one_pad(pool_strides), padding='SAME') \n",
    "\n",
    "\n",
    "\"\"\"\n",
    "DON'T MODIFY ANYTHING IN THIS CELL THAT IS BELOW THIS LINE\n",
    "\"\"\"\n",
    "tests.test_con_pool(conv2d_maxpool)"
   ]
  },
  {
   "cell_type": "markdown",
   "metadata": {},
   "source": [
    "### Flatten Layer\n",
    "Implement the `flatten` function to change the dimension of `x_tensor` from a 4-D tensor to a 2-D tensor.  The output should be the shape (*Batch Size*, *Flattened Image Size*). Shortcut option: you can use classes from the [TensorFlow Layers](https://www.tensorflow.org/api_docs/python/tf/layers) or [TensorFlow Layers (contrib)](https://www.tensorflow.org/api_guides/python/contrib.layers) packages for this layer. For more of a challenge, only use other TensorFlow packages."
   ]
  },
  {
   "cell_type": "code",
   "execution_count": 9,
   "metadata": {},
   "outputs": [
    {
     "name": "stdout",
     "output_type": "stream",
     "text": [
      "Tests Passed\n"
     ]
    }
   ],
   "source": [
    "import operator\n",
    "from functools import reduce\n",
    "\n",
    "def size_of_flatten(x_tensor):\n",
    "    sizes = [size.value for size in x_tensor.shape[1:]]\n",
    "    \n",
    "    return reduce(operator.mul, sizes, 1)\n",
    "\n",
    "def flatten(x_tensor):\n",
    "    \"\"\"\n",
    "    Flatten x_tensor to (Batch Size, Flattened Image Size)\n",
    "    : x_tensor: A tensor of size (Batch Size, ...), where ... are the image dimensions.\n",
    "    : return: A tensor of size (Batch Size, Flattened Image Size).\n",
    "    \"\"\"\n",
    "    \n",
    "    return tf.reshape(x_tensor, shape=(-1, size_of_flatten(x_tensor)))\n",
    "\n",
    "\n",
    "\"\"\"\n",
    "DON'T MODIFY ANYTHING IN THIS CELL THAT IS BELOW THIS LINE\n",
    "\"\"\"\n",
    "tests.test_flatten(flatten)"
   ]
  },
  {
   "cell_type": "markdown",
   "metadata": {},
   "source": [
    "### Fully-Connected Layer\n",
    "Implement the `fully_conn` function to apply a fully connected layer to `x_tensor` with the shape (*Batch Size*, *num_outputs*). Shortcut option: you can use classes from the [TensorFlow Layers](https://www.tensorflow.org/api_docs/python/tf/layers) or [TensorFlow Layers (contrib)](https://www.tensorflow.org/api_guides/python/contrib.layers) packages for this layer. For more of a challenge, only use other TensorFlow packages."
   ]
  },
  {
   "cell_type": "code",
   "execution_count": 10,
   "metadata": {},
   "outputs": [
    {
     "name": "stdout",
     "output_type": "stream",
     "text": [
      "Tests Passed\n"
     ]
    }
   ],
   "source": [
    "def fully_conn(x_tensor, num_outputs):\n",
    "    \n",
    "    \"\"\"\n",
    "    Apply a fully connected layer to x_tensor using weight and bias\n",
    "    : x_tensor: A 2-D tensor where the first dimension is batch size.\n",
    "    : num_outputs: The number of output that the new tensor should be.\n",
    "    : return: A 2-D tensor where the second dimension is num_outputs.\n",
    "    \"\"\"\n",
    "    num_inputs = x_tensor.shape[1].value\n",
    "    weights = tf.Variable(tf.truncated_normal([num_inputs, num_outputs], mean=.0, stddev=.01))\n",
    "    \n",
    "    bias = tf.Variable(tf.zeros(shape=[num_outputs]))\n",
    "    \n",
    "    return tf.nn.relu(tf.nn.bias_add(tf.matmul(x_tensor, weights), bias))\n",
    "\n",
    "\n",
    "\"\"\"\n",
    "DON'T MODIFY ANYTHING IN THIS CELL THAT IS BELOW THIS LINE\n",
    "\"\"\"\n",
    "tests.test_fully_conn(fully_conn)"
   ]
  },
  {
   "cell_type": "markdown",
   "metadata": {},
   "source": [
    "### Output Layer\n",
    "Implement the `output` function to apply a fully connected layer to `x_tensor` with the shape (*Batch Size*, *num_outputs*). Shortcut option: you can use classes from the [TensorFlow Layers](https://www.tensorflow.org/api_docs/python/tf/layers) or [TensorFlow Layers (contrib)](https://www.tensorflow.org/api_guides/python/contrib.layers) packages for this layer. For more of a challenge, only use other TensorFlow packages.\n",
    "\n",
    "**Note:** Activation, softmax, or cross entropy should **not** be applied to this."
   ]
  },
  {
   "cell_type": "code",
   "execution_count": 11,
   "metadata": {},
   "outputs": [
    {
     "name": "stdout",
     "output_type": "stream",
     "text": [
      "Tests Passed\n"
     ]
    }
   ],
   "source": [
    "def output(x_tensor, num_outputs):\n",
    "    \n",
    "    \"\"\"\n",
    "    Apply a output layer to x_tensor using weight and bias\n",
    "    : x_tensor: A 2-D tensor where the first dimension is batch size.\n",
    "    : num_outputs: The number of output that the new tensor should be.\n",
    "    : return: A 2-D tensor where the second dimension is num_outputs.\n",
    "    \"\"\"\n",
    "    # TODO: Implement Function\n",
    "    num_inputs = x_tensor.get_shape().as_list()[-1]\n",
    "    weights = tf.Variable(tf.truncated_normal([num_inputs, num_outputs], mean=.0, stddev=.01))\n",
    "    \n",
    "    bias = tf.Variable(tf.zeros(shape=[num_outputs]))\n",
    "    \n",
    "    return tf.nn.bias_add(tf.matmul(x_tensor, weights), bias)\n",
    "\n",
    "\n",
    "\"\"\"\n",
    "DON'T MODIFY ANYTHING IN THIS CELL THAT IS BELOW THIS LINE\n",
    "\"\"\"\n",
    "tests.test_output(output)"
   ]
  },
  {
   "cell_type": "markdown",
   "metadata": {},
   "source": [
    "### Create Convolutional Model\n",
    "Implement the function `conv_net` to create a convolutional neural network model. The function takes in a batch of images, `x`, and outputs logits.  Use the layers you created above to create this model:\n",
    "\n",
    "* Apply 1, 2, or 3 Convolution and Max Pool layers\n",
    "* Apply a Flatten Layer\n",
    "* Apply 1, 2, or 3 Fully Connected Layers\n",
    "* Apply an Output Layer\n",
    "* Return the output\n",
    "* Apply [TensorFlow's Dropout](https://www.tensorflow.org/api_docs/python/tf/nn/dropout) to one or more layers in the model using `keep_prob`. "
   ]
  },
  {
   "cell_type": "code",
   "execution_count": 12,
   "metadata": {},
   "outputs": [
    {
     "name": "stdout",
     "output_type": "stream",
     "text": [
      "Neural Network Built!\n"
     ]
    }
   ],
   "source": [
    "def conv_net(x, keep_prob):\n",
    "    \"\"\"\n",
    "    Create a convolutional neural network model\n",
    "    : x: Placeholder tensor that holds image data.\n",
    "    : keep_prob: Placeholder tensor that hold dropout keep probability.\n",
    "    : return: Tensor that represents logits\n",
    "    \"\"\"\n",
    "    conv = conv2d_maxpool(\n",
    "        x_tensor=x, \n",
    "        conv_num_outputs=48,\n",
    "        conv_ksize=(4,4),\n",
    "        conv_strides=(1,1),\n",
    "        pool_ksize=(2,2), \n",
    "        pool_strides=(2,2))\n",
    "    \n",
    "    conv = conv2d_maxpool(\n",
    "        x_tensor=conv, \n",
    "        conv_num_outputs=256,\n",
    "        conv_ksize=(4,4),\n",
    "        conv_strides=(1,1),\n",
    "        pool_ksize=(2,2), \n",
    "        pool_strides=(2,2))\n",
    "    \n",
    "    conv = conv2d_maxpool(\n",
    "        x_tensor=conv,\n",
    "        conv_num_outputs=512,\n",
    "        conv_ksize=(4,4),\n",
    "        conv_strides=(1,1),\n",
    "        pool_ksize=(2,2), \n",
    "        pool_strides=(2,2))\n",
    "    \n",
    "    flattened = tf.nn.dropout(flatten(conv), keep_prob)\n",
    "    \n",
    "\n",
    "    hidden_layer = fully_conn(flattened, 512)\n",
    "    hidden_layer = fully_conn(hidden_layer, 256) \n",
    "    \n",
    "    return output(hidden_layer, 10)\n",
    "\n",
    "\n",
    "\"\"\"\n",
    "DON'T MODIFY ANYTHING IN THIS CELL THAT IS BELOW THIS LINE\n",
    "\"\"\"\n",
    "\n",
    "##############################\n",
    "## Build the Neural Network ##\n",
    "##############################\n",
    "\n",
    "# Remove previous weights, bias, inputs, etc..\n",
    "tf.reset_default_graph()\n",
    "\n",
    "# Inputs\n",
    "x = neural_net_image_input((32, 32, 3))\n",
    "y = neural_net_label_input(10)\n",
    "keep_prob = neural_net_keep_prob_input()\n",
    "\n",
    "# Model\n",
    "logits = conv_net(x, keep_prob)\n",
    "\n",
    "# Name logits Tensor, so that is can be loaded from disk after training\n",
    "logits = tf.identity(logits, name='logits')\n",
    "\n",
    "# Loss and Optimizer\n",
    "cost = tf.reduce_mean(tf.nn.softmax_cross_entropy_with_logits(logits=logits, labels=y))\n",
    "optimizer = tf.train.AdamOptimizer().minimize(cost)\n",
    "\n",
    "# Accuracy\n",
    "correct_pred = tf.equal(tf.argmax(logits, 1), tf.argmax(y, 1))\n",
    "accuracy = tf.reduce_mean(tf.cast(correct_pred, tf.float32), name='accuracy')\n",
    "\n",
    "tests.test_conv_net(conv_net)"
   ]
  },
  {
   "cell_type": "markdown",
   "metadata": {},
   "source": [
    "## Train the Neural Network\n",
    "### Single Optimization\n",
    "Implement the function `train_neural_network` to do a single optimization.  The optimization should use `optimizer` to optimize in `session` with a `feed_dict` of the following:\n",
    "* `x` for image input\n",
    "* `y` for labels\n",
    "* `keep_prob` for keep probability for dropout\n",
    "\n",
    "This function will be called for each batch, so `tf.global_variables_initializer()` has already been called.\n",
    "\n",
    "Note: Nothing needs to be returned. This function is only optimizing the neural network."
   ]
  },
  {
   "cell_type": "code",
   "execution_count": 13,
   "metadata": {},
   "outputs": [
    {
     "name": "stdout",
     "output_type": "stream",
     "text": [
      "Tests Passed\n"
     ]
    }
   ],
   "source": [
    "def train_neural_network(session, optimizer, keep_probability, feature_batch, label_batch):\n",
    "    \"\"\"\n",
    "    Optimize the session on a batch of images and labels\n",
    "    : session: Current TensorFlow session\n",
    "    : optimizer: TensorFlow optimizer function\n",
    "    : keep_probability: keep probability\n",
    "    : feature_batch: Batch of Numpy image data\n",
    "    : label_batch: Batch of Numpy label data\n",
    "    \"\"\"\n",
    "    return session.run(optimizer, feed_dict={x: feature_batch, y: label_batch, keep_prob: keep_probability})\n",
    "\n",
    "\n",
    "\"\"\"\n",
    "DON'T MODIFY ANYTHING IN THIS CELL THAT IS BELOW THIS LINE\n",
    "\"\"\"\n",
    "tests.test_train_nn(train_neural_network)"
   ]
  },
  {
   "cell_type": "markdown",
   "metadata": {},
   "source": [
    "### Show Stats\n",
    "Implement the function `print_stats` to print loss and validation accuracy.  Use the global variables `valid_features` and `valid_labels` to calculate validation accuracy.  Use a keep probability of `1.0` to calculate the loss and validation accuracy."
   ]
  },
  {
   "cell_type": "code",
   "execution_count": 17,
   "metadata": {
    "collapsed": true
   },
   "outputs": [],
   "source": [
    "def print_stats(session, feature_batch, label_batch, cost, accuracy):\n",
    "    \"\"\"\n",
    "    Print information about loss and validation accuracy\n",
    "    : session: Current TensorFlow session\n",
    "    : feature_batch: Batch of Numpy image data\n",
    "    : label_batch: Batch of Numpy label data\n",
    "    : cost: TensorFlow cost function\n",
    "    : accuracy: TensorFlow accuracy function\n",
    "    \"\"\"\n",
    "    # TODO: Implement Function\n",
    "    accuracy_val = session.run(accuracy, feed_dict={x: feature_batch, y: label_batch, keep_prob: 1.0})\n",
    "    cost_val = session.run(cost, feed_dict={x: feature_batch, y: label_batch, keep_prob: 1.0})\n",
    "    \n",
    "    print('Accuracy: {} - Cost {}'.format(\n",
    "                accuracy_val,\n",
    "                cost_val))\n",
    "    \n",
    "    validation_accuracy_val = session.run(accuracy, feed_dict={x: valid_features, y: valid_labels, keep_prob: 1.0})\n",
    "    validation_cost_val = session.run(cost, feed_dict={x: valid_features, y: valid_labels, keep_prob: 1.0})\n",
    "    \n",
    "    print('Validation Accuracy: {} - Cost {}'.format(\n",
    "                validation_accuracy_val,\n",
    "                validation_cost_val))"
   ]
  },
  {
   "cell_type": "markdown",
   "metadata": {},
   "source": [
    "### Hyperparameters\n",
    "Tune the following parameters:\n",
    "* Set `epochs` to the number of iterations until the network stops learning or start overfitting\n",
    "* Set `batch_size` to the highest number that your machine has memory for.  Most people set them to common sizes of memory:\n",
    " * 64\n",
    " * 128\n",
    " * 256\n",
    " * ...\n",
    "* Set `keep_probability` to the probability of keeping a node using dropout"
   ]
  },
  {
   "cell_type": "code",
   "execution_count": 18,
   "metadata": {},
   "outputs": [],
   "source": [
    "# TODO: Tune Parameters\n",
    "epochs = 20\n",
    "batch_size = 512\n",
    "keep_probability = 0.6"
   ]
  },
  {
   "cell_type": "markdown",
   "metadata": {},
   "source": [
    "### Train on a Single CIFAR-10 Batch\n",
    "Instead of training the neural network on all the CIFAR-10 batches of data, let's use a single batch. This should save time while you iterate on the model to get a better accuracy.  Once the final validation accuracy is 50% or greater, run the model on all the data in the next section."
   ]
  },
  {
   "cell_type": "code",
   "execution_count": 19,
   "metadata": {},
   "outputs": [
    {
     "name": "stdout",
     "output_type": "stream",
     "text": [
      "Checking the Training on a Single Batch...\n",
      "Epoch  1, CIFAR-10 Batch 1:  Accuracy: 0.16554054617881775 - Cost 2.2687954902648926\n",
      "Validation Accuracy: 0.15960000455379486 - Cost 2.267014503479004\n",
      "Epoch  2, CIFAR-10 Batch 1:  Accuracy: 0.24662163853645325 - Cost 2.0650932788848877\n",
      "Validation Accuracy: 0.23560000956058502 - Cost 2.049893379211426\n",
      "Epoch  3, CIFAR-10 Batch 1:  Accuracy: 0.25337836146354675 - Cost 2.041334629058838\n",
      "Validation Accuracy: 0.24599997699260712 - Cost 2.0060713291168213\n",
      "Epoch  4, CIFAR-10 Batch 1:  Accuracy: 0.2635135054588318 - Cost 1.9805426597595215\n",
      "Validation Accuracy: 0.26460000872612 - Cost 1.928449273109436\n",
      "Epoch  5, CIFAR-10 Batch 1:  Accuracy: 0.2500000298023224 - Cost 1.9512745141983032\n",
      "Validation Accuracy: 0.29839998483657837 - Cost 1.9006223678588867\n",
      "Epoch  6, CIFAR-10 Batch 1:  Accuracy: 0.3006756901741028 - Cost 1.9069377183914185\n",
      "Validation Accuracy: 0.3073999881744385 - Cost 1.858577013015747\n",
      "Epoch  7, CIFAR-10 Batch 1:  Accuracy: 0.287162184715271 - Cost 1.9063830375671387\n",
      "Validation Accuracy: 0.32999998331069946 - Cost 1.8101933002471924\n",
      "Epoch  8, CIFAR-10 Batch 1:  Accuracy: 0.34121620655059814 - Cost 1.8174985647201538\n",
      "Validation Accuracy: 0.3423999547958374 - Cost 1.7910022735595703\n",
      "Epoch  9, CIFAR-10 Batch 1:  Accuracy: 0.3817567825317383 - Cost 1.686341643333435\n",
      "Validation Accuracy: 0.367000013589859 - Cost 1.6902201175689697\n",
      "Epoch 10, CIFAR-10 Batch 1:  Accuracy: 0.43243247270584106 - Cost 1.6019604206085205\n",
      "Validation Accuracy: 0.4023999273777008 - Cost 1.5959208011627197\n",
      "Epoch 11, CIFAR-10 Batch 1:  Accuracy: 0.44594594836235046 - Cost 1.523150086402893\n",
      "Validation Accuracy: 0.4283999800682068 - Cost 1.5271034240722656\n",
      "Epoch 12, CIFAR-10 Batch 1:  Accuracy: 0.4560810923576355 - Cost 1.4827711582183838\n",
      "Validation Accuracy: 0.4339999854564667 - Cost 1.505727767944336\n",
      "Epoch 13, CIFAR-10 Batch 1:  Accuracy: 0.4932432770729065 - Cost 1.4139236211776733\n",
      "Validation Accuracy: 0.45980000495910645 - Cost 1.4644676446914673\n",
      "Epoch 14, CIFAR-10 Batch 1:  Accuracy: 0.5304054021835327 - Cost 1.3504098653793335\n",
      "Validation Accuracy: 0.4697999954223633 - Cost 1.413702368736267\n",
      "Epoch 15, CIFAR-10 Batch 1:  Accuracy: 0.5033783912658691 - Cost 1.3321633338928223\n",
      "Validation Accuracy: 0.46619996428489685 - Cost 1.4283900260925293\n",
      "Epoch 16, CIFAR-10 Batch 1:  Accuracy: 0.5304054021835327 - Cost 1.3237338066101074\n",
      "Validation Accuracy: 0.45399996638298035 - Cost 1.5099694728851318\n",
      "Epoch 17, CIFAR-10 Batch 1:  Accuracy: 0.5810810923576355 - Cost 1.2223201990127563\n",
      "Validation Accuracy: 0.4875999391078949 - Cost 1.4188863039016724\n",
      "Epoch 18, CIFAR-10 Batch 1:  Accuracy: 0.5608108043670654 - Cost 1.1876575946807861\n",
      "Validation Accuracy: 0.49699991941452026 - Cost 1.3914461135864258\n",
      "Epoch 19, CIFAR-10 Batch 1:  Accuracy: 0.6114864349365234 - Cost 1.1000094413757324\n",
      "Validation Accuracy: 0.5163999199867249 - Cost 1.3547875881195068\n",
      "Epoch 20, CIFAR-10 Batch 1:  Accuracy: 0.6351352334022522 - Cost 1.0181999206542969\n",
      "Validation Accuracy: 0.5251999497413635 - Cost 1.2992000579833984\n"
     ]
    }
   ],
   "source": [
    "\"\"\"\n",
    "DON'T MODIFY ANYTHING IN THIS CELL\n",
    "\"\"\"\n",
    "print('Checking the Training on a Single Batch...')\n",
    "with tf.Session() as sess:\n",
    "    # Initializing the variables\n",
    "    sess.run(tf.global_variables_initializer())\n",
    "    \n",
    "    # Training cycle\n",
    "    for epoch in range(epochs):\n",
    "        batch_i = 1\n",
    "        for batch_features, batch_labels in helper.load_preprocess_training_batch(batch_i, batch_size):\n",
    "            train_neural_network(sess, optimizer, keep_probability, batch_features, batch_labels)\n",
    "\n",
    "        print('Epoch {:>2}, CIFAR-10 Batch {}:  '.format(epoch + 1, batch_i), end='')\n",
    "        print_stats(sess, batch_features, batch_labels, cost, accuracy)"
   ]
  },
  {
   "cell_type": "markdown",
   "metadata": {},
   "source": [
    "### Fully Train the Model\n",
    "Now that you got a good accuracy with a single CIFAR-10 batch, try it with all five batches."
   ]
  },
  {
   "cell_type": "code",
   "execution_count": 20,
   "metadata": {},
   "outputs": [
    {
     "name": "stdout",
     "output_type": "stream",
     "text": [
      "Training...\n",
      "Epoch  1, CIFAR-10 Batch 1:  Accuracy: 0.14864866435527802 - Cost 2.238273859024048\n",
      "Validation Accuracy: 0.12799999117851257 - Cost 2.242640972137451\n",
      "Epoch  1, CIFAR-10 Batch 2:  Accuracy: 0.18918921053409576 - Cost 2.183229923248291\n",
      "Validation Accuracy: 0.19619998335838318 - Cost 2.181509017944336\n",
      "Epoch  1, CIFAR-10 Batch 3:  Accuracy: 0.2060810923576355 - Cost 2.0431976318359375\n",
      "Validation Accuracy: 0.22359997034072876 - Cost 2.063601493835449\n",
      "Epoch  1, CIFAR-10 Batch 4:  Accuracy: 0.29054054617881775 - Cost 1.9378784894943237\n",
      "Validation Accuracy: 0.25459998846054077 - Cost 1.979257583618164\n",
      "Epoch  1, CIFAR-10 Batch 5:  Accuracy: 0.287162184715271 - Cost 1.9610323905944824\n",
      "Validation Accuracy: 0.25939998030662537 - Cost 1.9557178020477295\n",
      "Epoch  2, CIFAR-10 Batch 1:  Accuracy: 0.2939189374446869 - Cost 1.9110451936721802\n",
      "Validation Accuracy: 0.3149999678134918 - Cost 1.828477144241333\n",
      "Epoch  2, CIFAR-10 Batch 2:  Accuracy: 0.3310810923576355 - Cost 1.759282112121582\n",
      "Validation Accuracy: 0.3156000077724457 - Cost 1.8034652471542358\n",
      "Epoch  2, CIFAR-10 Batch 3:  Accuracy: 0.37837839126586914 - Cost 1.6821156740188599\n",
      "Validation Accuracy: 0.32959994673728943 - Cost 1.7825942039489746\n",
      "Epoch  2, CIFAR-10 Batch 4:  Accuracy: 0.41554054617881775 - Cost 1.573976993560791\n",
      "Validation Accuracy: 0.35499995946884155 - Cost 1.7192113399505615\n",
      "Epoch  2, CIFAR-10 Batch 5:  Accuracy: 0.4054054021835327 - Cost 1.672419786453247\n",
      "Validation Accuracy: 0.3944000005722046 - Cost 1.6310455799102783\n",
      "Epoch  3, CIFAR-10 Batch 1:  Accuracy: 0.3581081032752991 - Cost 1.6602659225463867\n",
      "Validation Accuracy: 0.41579997539520264 - Cost 1.583814263343811\n",
      "Epoch  3, CIFAR-10 Batch 2:  Accuracy: 0.4560811221599579 - Cost 1.5816084146499634\n",
      "Validation Accuracy: 0.4138000011444092 - Cost 1.5925005674362183\n",
      "Epoch  3, CIFAR-10 Batch 3:  Accuracy: 0.5337837934494019 - Cost 1.3365371227264404\n",
      "Validation Accuracy: 0.4487999677658081 - Cost 1.4960318803787231\n",
      "Epoch  3, CIFAR-10 Batch 4:  Accuracy: 0.4831081032752991 - Cost 1.324578046798706\n",
      "Validation Accuracy: 0.46799996495246887 - Cost 1.4360421895980835\n",
      "Epoch  3, CIFAR-10 Batch 5:  Accuracy: 0.48310813307762146 - Cost 1.4583112001419067\n",
      "Validation Accuracy: 0.45419996976852417 - Cost 1.4581313133239746\n",
      "Epoch  4, CIFAR-10 Batch 1:  Accuracy: 0.4628378748893738 - Cost 1.4872472286224365\n",
      "Validation Accuracy: 0.45899996161460876 - Cost 1.4563437700271606\n",
      "Epoch  4, CIFAR-10 Batch 2:  Accuracy: 0.45270270109176636 - Cost 1.4051899909973145\n",
      "Validation Accuracy: 0.46359995007514954 - Cost 1.4293851852416992\n",
      "Epoch  4, CIFAR-10 Batch 3:  Accuracy: 0.5472973585128784 - Cost 1.230645775794983\n",
      "Validation Accuracy: 0.478799968957901 - Cost 1.3989427089691162\n",
      "Epoch  4, CIFAR-10 Batch 4:  Accuracy: 0.5675675868988037 - Cost 1.2157655954360962\n",
      "Validation Accuracy: 0.49779993295669556 - Cost 1.3508228063583374\n",
      "Epoch  4, CIFAR-10 Batch 5:  Accuracy: 0.5405405163764954 - Cost 1.300398349761963\n",
      "Validation Accuracy: 0.5017999410629272 - Cost 1.3731592893600464\n",
      "Epoch  5, CIFAR-10 Batch 1:  Accuracy: 0.5337837934494019 - Cost 1.358063817024231\n",
      "Validation Accuracy: 0.49839991331100464 - Cost 1.3589820861816406\n",
      "Epoch  5, CIFAR-10 Batch 2:  Accuracy: 0.5608108043670654 - Cost 1.2666796445846558\n",
      "Validation Accuracy: 0.5297999382019043 - Cost 1.2875218391418457\n",
      "Epoch  5, CIFAR-10 Batch 3:  Accuracy: 0.5945946574211121 - Cost 1.1092790365219116\n",
      "Validation Accuracy: 0.532599925994873 - Cost 1.2741327285766602\n",
      "Epoch  5, CIFAR-10 Batch 4:  Accuracy: 0.5945945978164673 - Cost 1.0866273641586304\n",
      "Validation Accuracy: 0.5383999347686768 - Cost 1.2706362009048462\n",
      "Epoch  5, CIFAR-10 Batch 5:  Accuracy: 0.5912162065505981 - Cost 1.1447337865829468\n",
      "Validation Accuracy: 0.5513999462127686 - Cost 1.2327497005462646\n",
      "Epoch  6, CIFAR-10 Batch 1:  Accuracy: 0.5777027010917664 - Cost 1.2263712882995605\n",
      "Validation Accuracy: 0.5399999022483826 - Cost 1.2571327686309814\n",
      "Epoch  6, CIFAR-10 Batch 2:  Accuracy: 0.6081081628799438 - Cost 1.142686128616333\n",
      "Validation Accuracy: 0.5579999685287476 - Cost 1.2003393173217773\n",
      "Epoch  6, CIFAR-10 Batch 3:  Accuracy: 0.6351351737976074 - Cost 1.0105875730514526\n",
      "Validation Accuracy: 0.5633999109268188 - Cost 1.1904433965682983\n",
      "Epoch  6, CIFAR-10 Batch 4:  Accuracy: 0.625 - Cost 0.9509779214859009\n",
      "Validation Accuracy: 0.5761998891830444 - Cost 1.16579008102417\n",
      "Epoch  6, CIFAR-10 Batch 5:  Accuracy: 0.6351351141929626 - Cost 1.052337646484375\n",
      "Validation Accuracy: 0.5603999495506287 - Cost 1.2195515632629395\n",
      "Epoch  7, CIFAR-10 Batch 1:  Accuracy: 0.6182432174682617 - Cost 1.1355128288269043\n",
      "Validation Accuracy: 0.5685999393463135 - Cost 1.2004681825637817\n",
      "Epoch  7, CIFAR-10 Batch 2:  Accuracy: 0.662162184715271 - Cost 1.004797101020813\n",
      "Validation Accuracy: 0.5971998572349548 - Cost 1.1151161193847656\n",
      "Epoch  7, CIFAR-10 Batch 3:  Accuracy: 0.6554054021835327 - Cost 0.9497294425964355\n",
      "Validation Accuracy: 0.5877999067306519 - Cost 1.154202938079834\n",
      "Epoch  7, CIFAR-10 Batch 4:  Accuracy: 0.6824324131011963 - Cost 0.8339488506317139\n",
      "Validation Accuracy: 0.6125998497009277 - Cost 1.074272632598877\n",
      "Epoch  7, CIFAR-10 Batch 5:  Accuracy: 0.6790540814399719 - Cost 0.9339998960494995\n",
      "Validation Accuracy: 0.6013998985290527 - Cost 1.1150493621826172\n",
      "Epoch  8, CIFAR-10 Batch 1:  Accuracy: 0.6554054617881775 - Cost 1.0467538833618164\n",
      "Validation Accuracy: 0.5889999270439148 - Cost 1.160750389099121\n",
      "Epoch  8, CIFAR-10 Batch 2:  Accuracy: 0.7060810327529907 - Cost 0.8827210664749146\n",
      "Validation Accuracy: 0.6243999004364014 - Cost 1.0523741245269775\n",
      "Epoch  8, CIFAR-10 Batch 3:  Accuracy: 0.7229730486869812 - Cost 0.7977877259254456\n",
      "Validation Accuracy: 0.6171998977661133 - Cost 1.0566833019256592\n",
      "Epoch  8, CIFAR-10 Batch 4:  Accuracy: 0.7331081032752991 - Cost 0.7523397207260132\n",
      "Validation Accuracy: 0.626599907875061 - Cost 1.0560613870620728\n",
      "Epoch  8, CIFAR-10 Batch 5:  Accuracy: 0.6959460377693176 - Cost 0.829047679901123\n",
      "Validation Accuracy: 0.6353998780250549 - Cost 1.0455715656280518\n",
      "Epoch  9, CIFAR-10 Batch 1:  Accuracy: 0.7060810923576355 - Cost 0.8826255798339844\n",
      "Validation Accuracy: 0.6287999153137207 - Cost 1.0552403926849365\n",
      "Epoch  9, CIFAR-10 Batch 2:  Accuracy: 0.7297297120094299 - Cost 0.769193708896637\n",
      "Validation Accuracy: 0.6657998561859131 - Cost 0.9724110960960388\n",
      "Epoch  9, CIFAR-10 Batch 3:  Accuracy: 0.7500000596046448 - Cost 0.6919403076171875\n",
      "Validation Accuracy: 0.644399881362915 - Cost 0.9974243640899658\n",
      "Epoch  9, CIFAR-10 Batch 4:  Accuracy: 0.7466216087341309 - Cost 0.725489616394043\n",
      "Validation Accuracy: 0.6447999477386475 - Cost 1.0338177680969238\n",
      "Epoch  9, CIFAR-10 Batch 5:  Accuracy: 0.7432433366775513 - Cost 0.7330837249755859\n",
      "Validation Accuracy: 0.6513999104499817 - Cost 0.9874858856201172\n",
      "Epoch 10, CIFAR-10 Batch 1:  Accuracy: 0.7466217279434204 - Cost 0.7631425261497498\n",
      "Validation Accuracy: 0.6455998420715332 - Cost 0.9842637777328491\n",
      "Epoch 10, CIFAR-10 Batch 2:  Accuracy: 0.7500000596046448 - Cost 0.7190238237380981\n",
      "Validation Accuracy: 0.6569998860359192 - Cost 0.9746212959289551\n",
      "Epoch 10, CIFAR-10 Batch 3:  Accuracy: 0.7804054021835327 - Cost 0.6257050037384033\n",
      "Validation Accuracy: 0.6627999544143677 - Cost 0.9488778710365295\n",
      "Epoch 10, CIFAR-10 Batch 4:  Accuracy: 0.8141892552375793 - Cost 0.5632216930389404\n",
      "Validation Accuracy: 0.6737998127937317 - Cost 0.929052472114563\n",
      "Epoch 10, CIFAR-10 Batch 5:  Accuracy: 0.7939189672470093 - Cost 0.60796719789505\n",
      "Validation Accuracy: 0.6809999346733093 - Cost 0.9232527017593384\n",
      "Epoch 11, CIFAR-10 Batch 1:  Accuracy: 0.7702702879905701 - Cost 0.6517523527145386\n",
      "Validation Accuracy: 0.6755999326705933 - Cost 0.9251506924629211\n",
      "Epoch 11, CIFAR-10 Batch 2:  Accuracy: 0.7702702879905701 - Cost 0.6178287863731384\n",
      "Validation Accuracy: 0.6699999570846558 - Cost 0.9417278170585632\n",
      "Epoch 11, CIFAR-10 Batch 3:  Accuracy: 0.8141892552375793 - Cost 0.5402339696884155\n",
      "Validation Accuracy: 0.6745998859405518 - Cost 0.9180644750595093\n",
      "Epoch 11, CIFAR-10 Batch 4:  Accuracy: 0.8479730486869812 - Cost 0.5280627012252808\n",
      "Validation Accuracy: 0.6595998406410217 - Cost 0.9706328511238098\n",
      "Epoch 11, CIFAR-10 Batch 5:  Accuracy: 0.8445945978164673 - Cost 0.5387147665023804\n",
      "Validation Accuracy: 0.6801998615264893 - Cost 0.9128935933113098\n"
     ]
    },
    {
     "name": "stdout",
     "output_type": "stream",
     "text": [
      "Epoch 12, CIFAR-10 Batch 1:  Accuracy: 0.7668918967247009 - Cost 0.6300967931747437\n",
      "Validation Accuracy: 0.6541998982429504 - Cost 0.9861962199211121\n",
      "Epoch 12, CIFAR-10 Batch 2:  Accuracy: 0.8412162661552429 - Cost 0.5707747936248779\n",
      "Validation Accuracy: 0.681199848651886 - Cost 0.9217134118080139\n",
      "Epoch 12, CIFAR-10 Batch 3:  Accuracy: 0.8682432174682617 - Cost 0.44695398211479187\n",
      "Validation Accuracy: 0.6953998804092407 - Cost 0.880527675151825\n",
      "Epoch 12, CIFAR-10 Batch 4:  Accuracy: 0.875 - Cost 0.4286549389362335\n",
      "Validation Accuracy: 0.6835998892784119 - Cost 0.9129049777984619\n",
      "Epoch 12, CIFAR-10 Batch 5:  Accuracy: 0.8547297120094299 - Cost 0.4870865046977997\n",
      "Validation Accuracy: 0.703799843788147 - Cost 0.8662825226783752\n",
      "Epoch 13, CIFAR-10 Batch 1:  Accuracy: 0.8344594836235046 - Cost 0.49975040555000305\n",
      "Validation Accuracy: 0.6919998526573181 - Cost 0.900143027305603\n",
      "Epoch 13, CIFAR-10 Batch 2:  Accuracy: 0.8006756901741028 - Cost 0.5631420612335205\n",
      "Validation Accuracy: 0.6869998574256897 - Cost 0.9040260314941406\n",
      "Epoch 13, CIFAR-10 Batch 3:  Accuracy: 0.8682432174682617 - Cost 0.43478327989578247\n",
      "Validation Accuracy: 0.6781998872756958 - Cost 0.9214893579483032\n",
      "Epoch 13, CIFAR-10 Batch 4:  Accuracy: 0.9054053425788879 - Cost 0.35794705152511597\n",
      "Validation Accuracy: 0.6907998323440552 - Cost 0.9027412533760071\n",
      "Epoch 13, CIFAR-10 Batch 5:  Accuracy: 0.8716216683387756 - Cost 0.431573748588562\n",
      "Validation Accuracy: 0.6955999135971069 - Cost 0.9092783331871033\n",
      "Epoch 14, CIFAR-10 Batch 1:  Accuracy: 0.8817568421363831 - Cost 0.3927307426929474\n",
      "Validation Accuracy: 0.7041999101638794 - Cost 0.8734794855117798\n",
      "Epoch 14, CIFAR-10 Batch 2:  Accuracy: 0.8310811519622803 - Cost 0.49089181423187256\n",
      "Validation Accuracy: 0.678399920463562 - Cost 0.9188490509986877\n",
      "Epoch 14, CIFAR-10 Batch 3:  Accuracy: 0.8716216683387756 - Cost 0.3959202468395233\n",
      "Validation Accuracy: 0.7007998824119568 - Cost 0.8863334655761719\n",
      "Epoch 14, CIFAR-10 Batch 4:  Accuracy: 0.9087837934494019 - Cost 0.33543404936790466\n",
      "Validation Accuracy: 0.6931998133659363 - Cost 0.8963631987571716\n",
      "Epoch 14, CIFAR-10 Batch 5:  Accuracy: 0.9020270109176636 - Cost 0.3641997277736664\n",
      "Validation Accuracy: 0.6979997754096985 - Cost 0.8702912926673889\n",
      "Epoch 15, CIFAR-10 Batch 1:  Accuracy: 0.912162184715271 - Cost 0.3486643135547638\n",
      "Validation Accuracy: 0.70579993724823 - Cost 0.8709977269172668\n",
      "Epoch 15, CIFAR-10 Batch 2:  Accuracy: 0.9054054021835327 - Cost 0.3643856942653656\n",
      "Validation Accuracy: 0.7005998492240906 - Cost 0.8762602210044861\n",
      "Epoch 15, CIFAR-10 Batch 3:  Accuracy: 0.9155405163764954 - Cost 0.2856515347957611\n",
      "Validation Accuracy: 0.7125998735427856 - Cost 0.8546333909034729\n",
      "Epoch 15, CIFAR-10 Batch 4:  Accuracy: 0.9391891956329346 - Cost 0.2458806335926056\n",
      "Validation Accuracy: 0.7123998999595642 - Cost 0.861591637134552\n",
      "Epoch 15, CIFAR-10 Batch 5:  Accuracy: 0.925675630569458 - Cost 0.31563690304756165\n",
      "Validation Accuracy: 0.6971999406814575 - Cost 0.8853927254676819\n",
      "Epoch 16, CIFAR-10 Batch 1:  Accuracy: 0.9290540218353271 - Cost 0.2803907096385956\n",
      "Validation Accuracy: 0.7061998844146729 - Cost 0.8688720464706421\n",
      "Epoch 16, CIFAR-10 Batch 2:  Accuracy: 0.9155405759811401 - Cost 0.2795795798301697\n",
      "Validation Accuracy: 0.6973998546600342 - Cost 0.8941943645477295\n",
      "Epoch 16, CIFAR-10 Batch 3:  Accuracy: 0.9459459781646729 - Cost 0.22204777598381042\n",
      "Validation Accuracy: 0.7243998646736145 - Cost 0.8230070471763611\n",
      "Epoch 16, CIFAR-10 Batch 4:  Accuracy: 0.9560810327529907 - Cost 0.20262444019317627\n",
      "Validation Accuracy: 0.7175998687744141 - Cost 0.844995379447937\n",
      "Epoch 16, CIFAR-10 Batch 5:  Accuracy: 0.9527027010917664 - Cost 0.2091558873653412\n",
      "Validation Accuracy: 0.7133998870849609 - Cost 0.865561306476593\n",
      "Epoch 17, CIFAR-10 Batch 1:  Accuracy: 0.9594594836235046 - Cost 0.21342921257019043\n",
      "Validation Accuracy: 0.6863998770713806 - Cost 0.9592342972755432\n",
      "Epoch 17, CIFAR-10 Batch 2:  Accuracy: 0.9324324131011963 - Cost 0.25815585255622864\n",
      "Validation Accuracy: 0.6931999325752258 - Cost 0.9135481715202332\n",
      "Epoch 17, CIFAR-10 Batch 3:  Accuracy: 0.9459459185600281 - Cost 0.22934146225452423\n",
      "Validation Accuracy: 0.6987999081611633 - Cost 0.9135220646858215\n",
      "Epoch 17, CIFAR-10 Batch 4:  Accuracy: 0.9662162065505981 - Cost 0.17024320363998413\n",
      "Validation Accuracy: 0.7123998403549194 - Cost 0.8783387541770935\n",
      "Epoch 17, CIFAR-10 Batch 5:  Accuracy: 0.949324369430542 - Cost 0.2168726623058319\n",
      "Validation Accuracy: 0.718599796295166 - Cost 0.8655916452407837\n",
      "Epoch 18, CIFAR-10 Batch 1:  Accuracy: 0.9459459781646729 - Cost 0.1932460367679596\n",
      "Validation Accuracy: 0.6767998933792114 - Cost 1.046085238456726\n",
      "Epoch 18, CIFAR-10 Batch 2:  Accuracy: 0.9222973585128784 - Cost 0.2771247327327728\n",
      "Validation Accuracy: 0.6763998866081238 - Cost 0.9778892397880554\n",
      "Epoch 18, CIFAR-10 Batch 3:  Accuracy: 0.9594594836235046 - Cost 0.19286862015724182\n",
      "Validation Accuracy: 0.6969998478889465 - Cost 0.9273006916046143\n",
      "Epoch 18, CIFAR-10 Batch 4:  Accuracy: 0.9763513803482056 - Cost 0.15592148900032043\n",
      "Validation Accuracy: 0.705599844455719 - Cost 0.9193331003189087\n",
      "Epoch 18, CIFAR-10 Batch 5:  Accuracy: 0.949324369430542 - Cost 0.193904310464859\n",
      "Validation Accuracy: 0.7147998809814453 - Cost 0.8862228989601135\n",
      "Epoch 19, CIFAR-10 Batch 1:  Accuracy: 0.9729729890823364 - Cost 0.1446971893310547\n",
      "Validation Accuracy: 0.7105998992919922 - Cost 0.9255012273788452\n",
      "Epoch 19, CIFAR-10 Batch 2:  Accuracy: 0.9560811519622803 - Cost 0.2189122438430786\n",
      "Validation Accuracy: 0.7005999088287354 - Cost 0.8951383829116821\n",
      "Epoch 19, CIFAR-10 Batch 3:  Accuracy: 0.962837815284729 - Cost 0.1535770148038864\n",
      "Validation Accuracy: 0.6919999122619629 - Cost 0.977304995059967\n",
      "Epoch 19, CIFAR-10 Batch 4:  Accuracy: 0.9695945978164673 - Cost 0.12413925677537918\n",
      "Validation Accuracy: 0.6983998417854309 - Cost 0.9926407933235168\n",
      "Epoch 19, CIFAR-10 Batch 5:  Accuracy: 0.9594594836235046 - Cost 0.17034174501895905\n",
      "Validation Accuracy: 0.692599892616272 - Cost 0.9933348894119263\n",
      "Epoch 20, CIFAR-10 Batch 1:  Accuracy: 0.9459459781646729 - Cost 0.15490023791790009\n",
      "Validation Accuracy: 0.6995999217033386 - Cost 0.9767707586288452\n",
      "Epoch 20, CIFAR-10 Batch 2:  Accuracy: 0.9662162065505981 - Cost 0.15948818624019623\n",
      "Validation Accuracy: 0.6997998952865601 - Cost 0.927649736404419\n",
      "Epoch 20, CIFAR-10 Batch 3:  Accuracy: 0.9797297716140747 - Cost 0.12469638139009476\n",
      "Validation Accuracy: 0.6963998675346375 - Cost 1.0028663873672485\n",
      "Epoch 20, CIFAR-10 Batch 4:  Accuracy: 0.9797297716140747 - Cost 0.11523029208183289\n",
      "Validation Accuracy: 0.6995998620986938 - Cost 0.9846447110176086\n",
      "Epoch 20, CIFAR-10 Batch 5:  Accuracy: 0.9729729890823364 - Cost 0.12603464722633362\n",
      "Validation Accuracy: 0.7099999189376831 - Cost 0.9566481113433838\n"
     ]
    }
   ],
   "source": [
    "\"\"\"\n",
    "DON'T MODIFY ANYTHING IN THIS CELL\n",
    "\"\"\"\n",
    "save_model_path = './image_classification'\n",
    "\n",
    "print('Training...')\n",
    "with tf.Session() as sess:\n",
    "    # Initializing the variables\n",
    "    sess.run(tf.global_variables_initializer())\n",
    "    \n",
    "    # Training cycle\n",
    "    for epoch in range(epochs):\n",
    "        # Loop over all batches\n",
    "        n_batches = 5\n",
    "        for batch_i in range(1, n_batches + 1):\n",
    "            for batch_features, batch_labels in helper.load_preprocess_training_batch(batch_i, batch_size):\n",
    "                train_neural_network(sess, optimizer, keep_probability, batch_features, batch_labels)\n",
    "            print('Epoch {:>2}, CIFAR-10 Batch {}:  '.format(epoch + 1, batch_i), end='')\n",
    "            print_stats(sess, batch_features, batch_labels, cost, accuracy)\n",
    "            \n",
    "    # Save Model\n",
    "    saver = tf.train.Saver()\n",
    "    save_path = saver.save(sess, save_model_path)"
   ]
  },
  {
   "cell_type": "markdown",
   "metadata": {},
   "source": [
    "# Checkpoint\n",
    "The model has been saved to disk.\n",
    "## Test Model\n",
    "Test your model against the test dataset.  This will be your final accuracy. You should have an accuracy greater than 50%. If you don't, keep tweaking the model architecture and parameters."
   ]
  },
  {
   "cell_type": "code",
   "execution_count": 21,
   "metadata": {},
   "outputs": [
    {
     "name": "stdout",
     "output_type": "stream",
     "text": [
      "INFO:tensorflow:Restoring parameters from ./image_classification\n",
      "Testing Accuracy: 0.6995691627264022\n",
      "\n"
     ]
    },
    {
     "data": {
      "image/png": "[encoded data removed]",
      "text/plain": [
       "<matplotlib.figure.Figure at 0x7f297aeb56a0>"
      ]
     },
     "metadata": {
      "image/png": {
       "height": 319,
       "width": 355
      }
     },
     "output_type": "display_data"
    }
   ],
   "source": [
    "\"\"\"\n",
    "DON'T MODIFY ANYTHING IN THIS CELL\n",
    "\"\"\"\n",
    "%matplotlib inline\n",
    "%config InlineBackend.figure_format = 'retina'\n",
    "\n",
    "import tensorflow as tf\n",
    "import pickle\n",
    "import helper\n",
    "import random\n",
    "\n",
    "# Set batch size if not already set\n",
    "try:\n",
    "    if batch_size:\n",
    "        pass\n",
    "except NameError:\n",
    "    batch_size = 64\n",
    "\n",
    "save_model_path = './image_classification'\n",
    "n_samples = 4\n",
    "top_n_predictions = 3\n",
    "\n",
    "def test_model():\n",
    "    \"\"\"\n",
    "    Test the saved model against the test dataset\n",
    "    \"\"\"\n",
    "\n",
    "    test_features, test_labels = pickle.load(open('preprocess_test.p', mode='rb'))\n",
    "    loaded_graph = tf.Graph()\n",
    "\n",
    "    with tf.Session(graph=loaded_graph) as sess:\n",
    "        # Load model\n",
    "        loader = tf.train.import_meta_graph(save_model_path + '.meta')\n",
    "        loader.restore(sess, save_model_path)\n",
    "\n",
    "        # Get Tensors from loaded model\n",
    "        loaded_x = loaded_graph.get_tensor_by_name('x:0')\n",
    "        loaded_y = loaded_graph.get_tensor_by_name('y:0')\n",
    "        loaded_keep_prob = loaded_graph.get_tensor_by_name('keep_prob:0')\n",
    "        loaded_logits = loaded_graph.get_tensor_by_name('logits:0')\n",
    "        loaded_acc = loaded_graph.get_tensor_by_name('accuracy:0')\n",
    "        \n",
    "        # Get accuracy in batches for memory limitations\n",
    "        test_batch_acc_total = 0\n",
    "        test_batch_count = 0\n",
    "        \n",
    "        for test_feature_batch, test_label_batch in helper.batch_features_labels(test_features, test_labels, batch_size):\n",
    "            test_batch_acc_total += sess.run(\n",
    "                loaded_acc,\n",
    "                feed_dict={loaded_x: test_feature_batch, loaded_y: test_label_batch, loaded_keep_prob: 1.0})\n",
    "            test_batch_count += 1\n",
    "\n",
    "        print('Testing Accuracy: {}\\n'.format(test_batch_acc_total/test_batch_count))\n",
    "\n",
    "        # Print Random Samples\n",
    "        random_test_features, random_test_labels = tuple(zip(*random.sample(list(zip(test_features, test_labels)), n_samples)))\n",
    "        random_test_predictions = sess.run(\n",
    "            tf.nn.top_k(tf.nn.softmax(loaded_logits), top_n_predictions),\n",
    "            feed_dict={loaded_x: random_test_features, loaded_y: random_test_labels, loaded_keep_prob: 1.0})\n",
    "        helper.display_image_predictions(random_test_features, random_test_labels, random_test_predictions)\n",
    "\n",
    "\n",
    "test_model()"
   ]
  },
  {
   "cell_type": "markdown",
   "metadata": {},
   "source": [
    "## Why 50-80% Accuracy?\n",
    "You might be wondering why you can't get an accuracy any higher. First things first, 50% isn't bad for a simple CNN.  Pure guessing would get you 10% accuracy. However, you might notice people are getting scores [well above 80%](http://rodrigob.github.io/are_we_there_yet/build/classification_datasets_results.html#43494641522d3130).  That's because we haven't taught you all there is to know about neural networks. We still need to cover a few more techniques.\n",
    "## Submitting This Project\n",
    "When submitting this project, make sure to run all the cells before saving the notebook.  Save the notebook file as \"dlnd_image_classification.ipynb\" and save it as a HTML file under \"File\" -> \"Download as\".  Include the \"helper.py\" and \"problem_unittests.py\" files in your submission."
   ]
  }
 ],
 "metadata": {
  "kernelspec": {
   "display_name": "Python 3",
   "language": "python",
   "name": "python3"
  },
  "language_info": {
   "codemirror_mode": {
    "name": "ipython",
    "version": 3
   },
   "file_extension": ".py",
   "mimetype": "text/x-python",
   "name": "python",
   "nbconvert_exporter": "python",
   "pygments_lexer": "ipython3",
   "version": "3.5.3"
  }
 },
 "nbformat": 4,
 "nbformat_minor": 1
}
